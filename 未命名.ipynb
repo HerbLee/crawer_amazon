{
 "cells": [
  {
   "cell_type": "code",
   "execution_count": 3,
   "id": "efb1d63d",
   "metadata": {},
   "outputs": [],
   "source": [
    "import requests\n",
    "import json\n",
    "import random\n",
    "\n",
    "def get_ip():\n",
    "    res = requests.get(\"http://api.proxy.ipidea.io/getProxyIp?num=100&return_type=json&lb=1&sb=0&flow=1&regions=&protocol=http\")\n",
    "    data = json.loads(res.content)\n",
    "    res_list = []\n",
    "    for item in data.get(\"data\"):\n",
    "        res_list.append(\"{}:{}\".format(item.get(\"ip\"), item.get(\"port\")))\n",
    "\n",
    "    return random.choices(res_list)[0]\n"
   ]
  },
  {
   "cell_type": "code",
   "execution_count": 5,
   "id": "e0fbc331",
   "metadata": {},
   "outputs": [
    {
     "data": {
      "text/plain": [
       "'52.77.248.178:16617'"
      ]
     },
     "execution_count": 5,
     "metadata": {},
     "output_type": "execute_result"
    }
   ],
   "source": [
    "get_ip()"
   ]
  },
  {
   "cell_type": "code",
   "execution_count": null,
   "id": "bc2e786c",
   "metadata": {},
   "outputs": [],
   "source": []
  }
 ],
 "metadata": {
  "kernelspec": {
   "display_name": "Python 3",
   "language": "python",
   "name": "python3"
  },
  "language_info": {
   "codemirror_mode": {
    "name": "ipython",
    "version": 3
   },
   "file_extension": ".py",
   "mimetype": "text/x-python",
   "name": "python",
   "nbconvert_exporter": "python",
   "pygments_lexer": "ipython3",
   "version": "3.7.12"
  }
 },
 "nbformat": 4,
 "nbformat_minor": 5
}
