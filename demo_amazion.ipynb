{
 "cells": [
  {
   "cell_type": "code",
   "execution_count": 1,
   "id": "9e6bb15c",
   "metadata": {
    "pycharm": {
     "name": "#%%\n"
    }
   },
   "outputs": [],
   "source": [
    "import requests\n",
    "from lxml import etree\n"
   ]
  },
  {
   "cell_type": "code",
   "execution_count": 2,
   "id": "68e9f32a",
   "metadata": {
    "pycharm": {
     "name": "#%%\n"
    }
   },
   "outputs": [],
   "source": [
    "URL = \"https://www.amazon.cn/s?i=toys-and-games\"\n",
    "\n",
    "headers = {\n",
    "\n",
    "    'Accept': 'text/html,application/xhtml+xml,application/xml;q=0.9,image/webp,image/apng,*/*;q=0.8`',\n",
    "    'Accept-Encoding': 'gzip, deflate, br',\n",
    "    'Accept-Language': 'zh-CN,zh;q=0.9,en;q=0.8',\n",
    "    'Cache-Control': 'max-age=0',\n",
    "    'Cookie': 'x-wl-uid=1C5tB2vN8c7lavnzfYDgHUImOM4TnKW4RDPJRHqltEo/CzfweQDRpdn8vABF8x1AJGiV5fs7nxxs=; session-id=458-1818727-1656342; ubid-acbcn=460-9298287-9372958; session-token=\"qLgiMsjH5EkTiN1gyNgsmUtrW2cKLf2Y9N6fpJoYpV6d1nqVt6vvuukTz02ezeMaWJfwZGeXxoPVwGjydlOwEX1ENh0A1ZebwcEN9T69+WYA/1cV4OHxfvOPrxjIVFhMgaZqLjkHt4KZ+sGOP4gT7bAt14UlSx9tq1pyNX/8JDmQ8ouZKTL0KYAqzVA+tLgHJqlJYLNt+ovqT7ad6WamIA==\"; session-id-time=2082729601l; csm-hit=tb:4DGRV0CH4S37H6HK0TQ5+s-5882EJ35HSPBDQRTWVYS|1547819207778&adb:adblk_no&t:1547818974223',\n",
    "    'Connection': 'keep-alive',\n",
    "    'Host': 'www.amazon.cn',\n",
    "    'Referer': 'https://www.amazon.cn/',\n",
    "    'Upgrade-Insecure-Requests': '1',\n",
    "    'User-Agent': 'Mozilla/5.0 (Windows NT 10.0; WOW64) AppleWebKit/537.36 (KHTML, like Gecko) Chrome/67.0.3396.99 Safari/537.36'\n",
    "\n",
    "}"
   ]
  },
  {
   "cell_type": "code",
   "execution_count": 16,
   "id": "d25dd002",
   "metadata": {
    "pycharm": {
     "name": "#%%\n"
    }
   },
   "outputs": [],
   "source": [
    "res = requests.get(URL, headers=headers)\n",
    "# print(res.text)\n",
    "\n",
    "html = etree.HTML(res.text)\n",
    "dt = html.xpath('//li[@class=\"a-spacing-micro apb-browse-refinements-indent-2\"]//a[@class=\"a-color-base a-link-normal\"]')\n"
   ]
  },
  {
   "cell_type": "code",
   "execution_count": 17,
   "id": "c1aa5d99",
   "metadata": {
    "pycharm": {
     "name": "#%%\n"
    }
   },
   "outputs": [],
   "source": [
    "url_map = {}\n",
    "for item in dt:\n",
    "    url = item.xpath(\"./@href\")\n",
    "    name = item.xpath(\"./span/text()\")\n",
    "    url_map[name[0]] = url[0]"
   ]
  },
  {
   "cell_type": "code",
   "execution_count": 18,
   "id": "2780306f",
   "metadata": {
    "pycharm": {
     "name": "#%%\n"
    }
   },
   "outputs": [
    {
     "name": "stdout",
     "output_type": "stream",
     "text": [
      "{'婴幼玩具': '/s?bbn=647071051&rh=n%3A647070051%2Cn%3A1982054051&dc&qid=1660720819&rnid=647071051&ref=lp_647071051_nr_n_0', '娃娃': '/s?bbn=647071051&rh=n%3A647070051%2Cn%3A1982060051&dc&qid=1660720819&rnid=647071051&ref=lp_647071051_nr_n_1', '过家家': '/s?bbn=647071051&rh=n%3A647070051%2Cn%3A1982579051&dc&qid=1660720819&rnid=647071051&ref=lp_647071051_nr_n_2', '拼图': '/s?bbn=647071051&rh=n%3A647070051%2Cn%3A1982546051&dc&qid=1660720819&rnid=647071051&ref=lp_647071051_nr_n_3', '拼插类玩具': '/s?bbn=647071051&rh=n%3A647070051%2Cn%3A1982062051&dc&qid=1660720819&rnid=647071051&ref=lp_647071051_nr_n_4', '玩具车、惯性车': '/s?bbn=647071051&rh=n%3A647070051%2Cn%3A281511071&dc&qid=1660720819&rnid=647071051&ref=lp_647071051_nr_n_5', '遥控电动玩具': '/s?bbn=647071051&rh=n%3A647070051%2Cn%3A1982058051&dc&qid=1660720819&rnid=647071051&ref=lp_647071051_nr_n_6', '模型组装及收藏': '/s?bbn=647071051&rh=n%3A647070051%2Cn%3A1982523051&dc&qid=1660720819&rnid=647071051&ref=lp_647071051_nr_n_7', '动漫玩具及周边': '/s?bbn=647071051&rh=n%3A647070051%2Cn%3A2017770051&dc&qid=1660720819&rnid=647071051&ref=lp_647071051_nr_n_8', '学校用品': '/s?bbn=647071051&rh=n%3A647070051%2Cn%3A1982066051&dc&qid=1660720819&rnid=647071051&ref=lp_647071051_nr_n_9', '绘画、DIY制作': '/s?bbn=647071051&rh=n%3A647070051%2Cn%3A1982067051&dc&qid=1660720819&rnid=647071051&ref=lp_647071051_nr_n_10', '游戏': '/s?bbn=647071051&rh=n%3A647070051%2Cn%3A1982065051&dc&qid=1660720819&rnid=647071051&ref=lp_647071051_nr_n_11', '电子类玩具': '/s?bbn=647071051&rh=n%3A647070051%2Cn%3A281329071&dc&qid=1660720819&rnid=647071051&ref=lp_647071051_nr_n_12', '运动户外': '/s?bbn=647071051&rh=n%3A647070051%2Cn%3A1982064051&dc&qid=1660720819&rnid=647071051&ref=lp_647071051_nr_n_13', '毛绒布艺': '/s?bbn=647071051&rh=n%3A647070051%2Cn%3A1982061051&dc&qid=1660720819&rnid=647071051&ref=lp_647071051_nr_n_14', '音乐玩具': '/s?bbn=647071051&rh=n%3A647070051%2Cn%3A1982063051&dc&qid=1660720819&rnid=647071051&ref=lp_647071051_nr_n_15', '木偶、手偶': '/s?bbn=647071051&rh=n%3A647070051%2Cn%3A281482071&dc&qid=1660720819&rnid=647071051&ref=lp_647071051_nr_n_16', '益智、科教玩具': '/s?bbn=647071051&rh=n%3A647070051%2Cn%3A281527071&dc&qid=1660720819&rnid=647071051&ref=lp_647071051_nr_n_17', '创意玩具': '/s?bbn=647071051&rh=n%3A647070051%2Cn%3A1982069051&dc&qid=1660720819&rnid=647071051&ref=lp_647071051_nr_n_18', '节日聚会用品': '/s?bbn=647071051&rh=n%3A647070051%2Cn%3A281445071&dc&qid=1660720819&rnid=647071051&ref=lp_647071051_nr_n_19', '装扮与饰品': '/s?bbn=647071051&rh=n%3A647070051%2Cn%3A281651071&dc&qid=1660720819&rnid=647071051&ref=lp_647071051_nr_n_20', '角色扮演及扮装游戏': '/s?bbn=647071051&rh=n%3A647070051%2Cn%3A281421071&dc&qid=1660720819&rnid=647071051&ref=lp_647071051_nr_n_21', '弹珠轨道玩具': '/s?bbn=647071051&rh=n%3A647070051%2Cn%3A281327071&dc&qid=1660720819&rnid=647071051&ref=lp_647071051_nr_n_22', '儿童用食品加工机': '/s?bbn=647071051&rh=n%3A647070051%2Cn%3A281337071&dc&qid=1660720819&rnid=647071051&ref=lp_647071051_nr_n_23', '卡片收藏': '/s?bbn=647071051&rh=n%3A647070051%2Cn%3A281457071&dc&qid=1660720819&rnid=647071051&ref=lp_647071051_nr_n_24', '硬币邮票收藏': '/s?bbn=647071051&rh=n%3A647070051%2Cn%3A281580071&dc&qid=1660720819&rnid=647071051&ref=lp_647071051_nr_n_25'}\n"
     ]
    }
   ],
   "source": [
    "print(url_map)"
   ]
  },
  {
   "cell_type": "code",
   "execution_count": null,
   "id": "baca10b2",
   "metadata": {
    "pycharm": {
     "name": "#%%\n"
    }
   },
   "outputs": [],
   "source": []
  },
  {
   "cell_type": "code",
   "execution_count": 6,
   "id": "71636b54",
   "metadata": {
    "pycharm": {
     "name": "#%%\n"
    }
   },
   "outputs": [],
   "source": [
    "def get_categroy(url):\n",
    "    res = requests.get(url,headers=headers)\n",
    "    "
   ]
  },
  {
   "cell_type": "code",
   "execution_count": 19,
   "id": "04a1d827",
   "metadata": {
    "pycharm": {
     "name": "#%%\n"
    }
   },
   "outputs": [],
   "source": [
    "res = requests.get(\"https://www.amazon.cn/s?bbn=647071051&rh=n%3A647070051%2Cn%3A1982054051&dc&qid=1660720819&rnid=647071051&ref=lp_647071051_nr_n_0\",headers=headers)"
   ]
  },
  {
   "cell_type": "code",
   "execution_count": 20,
   "id": "da15686d",
   "metadata": {
    "pycharm": {
     "name": "#%%\n"
    }
   },
   "outputs": [],
   "source": [
    "# 这里是获取具体的内容\n",
    "html = etree.HTML(res.text)\n",
    "hs = html.xpath(\"/html/body/div[1]/div[2]/div[2]/div[1]/div[2]/div[2]/div/div/a/@href\")[0]"
   ]
  },
  {
   "cell_type": "code",
   "execution_count": 21,
   "id": "81107ef1",
   "metadata": {
    "pycharm": {
     "name": "#%%\n"
    }
   },
   "outputs": [
    {
     "data": {
      "text/plain": [
       "'/s?rh=n%3A1982054051&fs=true&ref=lp_1982054051_sar'"
      ]
     },
     "execution_count": 21,
     "metadata": {},
     "output_type": "execute_result"
    }
   ],
   "source": [
    "hs"
   ]
  },
  {
   "cell_type": "code",
   "execution_count": 25,
   "id": "a4a310d8",
   "metadata": {
    "pycharm": {
     "name": "#%%\n"
    }
   },
   "outputs": [],
   "source": [
    "res = requests.get(\"https://www.amazon.cn/s?rh=n%3A1982054051&fs=true&ref=lp_1982054051_sar\",headers=headers)\n",
    "\n",
    "html = etree.HTML(res.text)\n",
    "hs = html.xpath('//ul[@class=\"a-unordered-list a-nostyle a-vertical a-spacing-medium\"]/li[@class=\"a-spacing-micro s-navigation-indent-2\"]//a')"
   ]
  },
  {
   "cell_type": "code",
   "execution_count": 26,
   "id": "29025285",
   "metadata": {
    "pycharm": {
     "name": "#%%\n"
    }
   },
   "outputs": [],
   "source": [
    "url_map = {}\n",
    "for item in hs:\n",
    "    url = item.xpath(\"./@href\")\n",
    "    name = item.xpath(\"./span/text()\")\n",
    "    url_map[name[0]] = url[0]"
   ]
  },
  {
   "cell_type": "code",
   "execution_count": 27,
   "id": "98eedb32",
   "metadata": {
    "pycharm": {
     "name": "#%%\n"
    }
   },
   "outputs": [
    {
     "name": "stdout",
     "output_type": "stream",
     "text": [
      "{'拨浪鼓、摇铃、床铃': '/s?i=toys-and-games&bbn=1982054051&rh=n%3A647070051%2Cn%3A1982054051%2Cn%3A1982480051&dc&fs=true&qid=1660720897&rnid=1982054051&ref=sr_nr_n_1&ds=v1%3Ar%2Fu1nsqDkQiKBEWwaN3gK%2F7Rv3atMlPNg4eKSCofxYs', '游戏垫': '/s?i=toys-and-games&bbn=1982054051&rh=n%3A647070051%2Cn%3A1982054051%2Cn%3A2039909051&dc&fs=true&qid=1660720897&rnid=1982054051&ref=sr_nr_n_2&ds=v1%3AaVXr0ZJrlglCaNtnvx2S285xyOmX7d%2FgBmo6XiPDZy8', '推拉玩具、学步车': '/s?i=toys-and-games&bbn=1982054051&rh=n%3A647070051%2Cn%3A1982054051%2Cn%3A2039910051&dc&fs=true&qid=1660720897&rnid=1982054051&ref=sr_nr_n_3&ds=v1%3AWz6t4Otzhq%2F4W8v%2B2t8rVBX7PwBMJjjDAM8CAImjiTs', '健身玩具、健身架': '/s?i=toys-and-games&bbn=1982054051&rh=n%3A647070051%2Cn%3A1982054051%2Cn%3A1982485051&dc&fs=true&qid=1660720897&rnid=1982054051&ref=sr_nr_n_4&ds=v1%3A%2BxPvB%2BEOiqaTpaTPMH4jF4vU9t2I5WKv2kk0MGcK24k', '布书': '/s?i=toys-and-games&bbn=1982054051&rh=n%3A647070051%2Cn%3A1982054051%2Cn%3A1982481051&dc&fs=true&qid=1660720897&rnid=1982054051&ref=sr_nr_n_5&ds=v1%3AVBtMReYsvkBT%2B3K1pd2qyKFXnT6MpIhMDJSAfuMh0S8', '布玩': '/s?i=toys-and-games&bbn=1982054051&rh=n%3A647070051%2Cn%3A1982054051%2Cn%3A2132415051&dc&fs=true&qid=1660720897&rnid=1982054051&ref=sr_nr_n_6&ds=v1%3A4eMxbwCoUleiCVu%2B2P0Cwvb6ripuE6JBjLyZMjQM06w', '浴室玩具': '/s?i=toys-and-games&bbn=1982054051&rh=n%3A647070051%2Cn%3A1982054051%2Cn%3A1982486051&dc&fs=true&qid=1660720897&rnid=1982054051&ref=sr_nr_n_7&ds=v1%3ARfOHTR%2FHirEVxN9Im%2B8S7MhrWVBT9EH7BihQhzeRTlc', '木马摇马': '/s?i=toys-and-games&bbn=1982054051&rh=n%3A647070051%2Cn%3A1982054051%2Cn%3A2039911051&dc&fs=true&qid=1660720897&rnid=1982054051&ref=sr_nr_n_8&ds=v1%3AOqR94bx1ULZ0KhUmiZzWoorkoxbDsOiKIFMUl9lrONU', '安抚摇椅、摇摇车': '/s?i=toys-and-games&bbn=1982054051&rh=n%3A647070051%2Cn%3A1982054051%2Cn%3A281568071&dc&fs=true&qid=1660720897&rnid=1982054051&ref=sr_nr_n_9&ds=v1%3A%2F0Y3Ecdo7g6QctprbAcKiwMWklRqRqZlM2%2Fg4xlampE', '声音玩具': '/s?i=toys-and-games&bbn=1982054051&rh=n%3A647070051%2Cn%3A1982054051%2Cn%3A2039912051&dc&fs=true&qid=1660720897&rnid=1982054051&ref=sr_nr_n_10&ds=v1%3AttLJB2inwobJZlsLapAn3uF%2FrBtW%2BySIi%2BDb060GW68', '车挂、床挂玩具': '/s?i=toys-and-games&bbn=1982054051&rh=n%3A647070051%2Cn%3A1982054051%2Cn%3A281570071&dc&fs=true&qid=1660720897&rnid=1982054051&ref=sr_nr_n_11&ds=v1%3AbMp6K%2BUoesikD6Movpr8%2FpbsxzQu4bedhFu1f4J9l08', '敲击玩具': '/s?i=toys-and-games&bbn=1982054051&rh=n%3A647070051%2Cn%3A1982054051%2Cn%3A281575071&dc&fs=true&qid=1660720897&rnid=1982054051&ref=sr_nr_n_12&ds=v1%3AiYE5dKCZ9Qy%2Fcc%2FpgsHNMEJbFv%2BMFqbhw8l6xZ%2BT56Q', '不倒翁': '/s?i=toys-and-games&bbn=1982054051&rh=n%3A647070051%2Cn%3A1982054051%2Cn%3A281569071&dc&fs=true&qid=1660720897&rnid=1982054051&ref=sr_nr_n_13&ds=v1%3Aq5gjfmfMWSBd7E6YK%2BFuM%2FqttouUjNhRgCVjWv8%2BKc0', '婴儿手抓球': '/s?i=toys-and-games&bbn=1982054051&rh=n%3A647070051%2Cn%3A1982054051%2Cn%3A281578071&dc&fs=true&qid=1660720897&rnid=1982054051&ref=sr_nr_n_14&ds=v1%3AvEMmYZQ1ntRCvKJab1ccw5WggLJ7lW3ZMrm3FySgMIA', '室内攀爬、游戏屋': '/s?i=toys-and-games&bbn=1982054051&rh=n%3A647070051%2Cn%3A1982054051%2Cn%3A281576071&dc&fs=true&qid=1660720897&rnid=1982054051&ref=sr_nr_n_15&ds=v1%3AjZ99HiYOwQ9CAX0ld8rgFrGSCnJBja2dDNJz9J3tzeQ', '排序、堆砌': '/s?i=toys-and-games&bbn=1982054051&rh=n%3A647070051%2Cn%3A1982054051%2Cn%3A281574071&dc&fs=true&qid=1660720897&rnid=1982054051&ref=sr_nr_n_16&ds=v1%3AStATxf5C7bNfsXH7BfTPp7VmsN1VybfQfZSNZQcTqNU', '镜子': '/s?i=toys-and-games&bbn=1982054051&rh=n%3A647070051%2Cn%3A1982054051%2Cn%3A281573071&dc&fs=true&qid=1660720897&rnid=1982054051&ref=sr_nr_n_17&ds=v1%3AZV4J8V0gJ%2Bix8eHnbMUqAMI6P9vP5JGSg%2Bs7Z5VbATM', '珠算架': '/s?i=toys-and-games&bbn=1982054051&rh=n%3A647070051%2Cn%3A1982054051%2Cn%3A281579071&dc&fs=true&qid=1660720897&rnid=1982054051&ref=sr_nr_n_18&ds=v1%3Auk6wuLr0A5%2BFA%2FqT8Drsptsj2d2wS2VmNmW1QzP5iRU', '教学时钟': '/s?i=toys-and-games&bbn=1982054051&rh=n%3A647070051%2Cn%3A1982054051%2Cn%3A281572071&dc&fs=true&qid=1660720897&rnid=1982054051&ref=sr_nr_n_19&ds=v1%3AX6y%2B9mZ5onrKfp8EdeAaqoGmLc9WwrdOnroF5avwz7s', '婴儿手模脚模': '/s?i=toys-and-games&bbn=1982054051&rh=n%3A647070051%2Cn%3A1982054051%2Cn%3A273363071&dc&fs=true&qid=1660720897&rnid=1982054051&ref=sr_nr_n_20&ds=v1%3A%2BlA3V3zhCF8tbOMf%2FBDWgLyczqDogLJ0ClneBvsw3yY', '婴儿胎发牙齿收纳盒': '/s?i=toys-and-games&bbn=1982054051&rh=n%3A647070051%2Cn%3A1982054051%2Cn%3A273367071&dc&fs=true&qid=1660720897&rnid=1982054051&ref=sr_nr_n_21&ds=v1%3AUYrq2q2OJAvuyZg4mUIuFkxhJ24DY%2F08xR1%2FmsgBtCw'}\n"
     ]
    }
   ],
   "source": [
    "print(url_map)"
   ]
  },
  {
   "cell_type": "code",
   "execution_count": null,
   "id": "dfd2a67f",
   "metadata": {
    "pycharm": {
     "name": "#%%\n"
    }
   },
   "outputs": [],
   "source": []
  }
 ],
 "metadata": {
  "kernelspec": {
   "display_name": "Python 3",
   "language": "python",
   "name": "python3"
  },
  "language_info": {
   "codemirror_mode": {
    "name": "ipython",
    "version": 3
   },
   "file_extension": ".py",
   "mimetype": "text/x-python",
   "name": "python",
   "nbconvert_exporter": "python",
   "pygments_lexer": "ipython3",
   "version": "3.7.12"
  }
 },
 "nbformat": 4,
 "nbformat_minor": 5
}