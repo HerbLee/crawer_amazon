{
 "cells": [
  {
   "cell_type": "code",
   "execution_count": 1,
   "id": "9e6bb15c",
   "metadata": {},
   "outputs": [],
   "source": [
    "import requests\n",
    "from lxml import etree\n"
   ]
  },
  {
   "cell_type": "code",
   "execution_count": 2,
   "id": "68e9f32a",
   "metadata": {},
   "outputs": [],
   "source": [
    "URL = \"https://www.amazon.cn/s?i=toys-and-games\"\n",
    "\n",
    "headers = {\n",
    "\n",
    "    'Accept': 'text/html,application/xhtml+xml,application/xml;q=0.9,image/webp,image/apng,*/*;q=0.8`',\n",
    "    'Accept-Encoding': 'gzip, deflate, br',\n",
    "    'Accept-Language': 'zh-CN,zh;q=0.9,en;q=0.8',\n",
    "    'Cache-Control': 'max-age=0',\n",
    "    'Cookie': 'x-wl-uid=1C5tB2vN8c7lavnzfYDgHUImOM4TnKW4RDPJRHqltEo/CzfweQDRpdn8vABF8x1AJGiV5fs7nxxs=; session-id=458-1818727-1656342; ubid-acbcn=460-9298287-9372958; session-token=\"qLgiMsjH5EkTiN1gyNgsmUtrW2cKLf2Y9N6fpJoYpV6d1nqVt6vvuukTz02ezeMaWJfwZGeXxoPVwGjydlOwEX1ENh0A1ZebwcEN9T69+WYA/1cV4OHxfvOPrxjIVFhMgaZqLjkHt4KZ+sGOP4gT7bAt14UlSx9tq1pyNX/8JDmQ8ouZKTL0KYAqzVA+tLgHJqlJYLNt+ovqT7ad6WamIA==\"; session-id-time=2082729601l; csm-hit=tb:4DGRV0CH4S37H6HK0TQ5+s-5882EJ35HSPBDQRTWVYS|1547819207778&adb:adblk_no&t:1547818974223',\n",
    "    'Connection': 'keep-alive',\n",
    "    'Host': 'www.amazon.cn',\n",
    "    'Referer': 'https://www.amazon.cn/',\n",
    "    'Upgrade-Insecure-Requests': '1',\n",
    "    'User-Agent': 'Mozilla/5.0 (Windows NT 10.0; WOW64) AppleWebKit/537.36 (KHTML, like Gecko) Chrome/67.0.3396.99 Safari/537.36'\n",
    "\n",
    "}"
   ]
  },
  {
   "cell_type": "code",
   "execution_count": 17,
   "id": "d25dd002",
   "metadata": {},
   "outputs": [],
   "source": [
    "res = requests.get(URL, headers=headers)\n",
    "# print(res.text)\n",
    "\n",
    "html = etree.HTML(res.text)\n",
    "dt = html.xpath('//li[@class=\"a-spacing-micro apb-browse-refinements-indent-2\"]//a[@class=\"a-color-base a-link-normal\"]')\n"
   ]
  },
  {
   "cell_type": "code",
   "execution_count": 24,
   "id": "c1aa5d99",
   "metadata": {},
   "outputs": [],
   "source": [
    "url_map = {}\n",
    "for item in dt:\n",
    "    url = item.xpath(\"./@href\")\n",
    "    name = item.xpath(\"./span/text()\")\n",
    "    url_map[name[0]] = url[0]"
   ]
  },
  {
   "cell_type": "code",
   "execution_count": 25,
   "id": "2780306f",
   "metadata": {},
   "outputs": [
    {
     "name": "stdout",
     "output_type": "stream",
     "text": [
      "{'婴幼玩具': '/s?bbn=647071051&rh=n%3A647070051%2Cn%3A1982054051&dc&qid=1660662477&rnid=647071051&ref=lp_647071051_nr_n_0', '娃娃': '/s?bbn=647071051&rh=n%3A647070051%2Cn%3A1982060051&dc&qid=1660662477&rnid=647071051&ref=lp_647071051_nr_n_1', '过家家': '/s?bbn=647071051&rh=n%3A647070051%2Cn%3A1982579051&dc&qid=1660662477&rnid=647071051&ref=lp_647071051_nr_n_2', '拼图': '/s?bbn=647071051&rh=n%3A647070051%2Cn%3A1982546051&dc&qid=1660662477&rnid=647071051&ref=lp_647071051_nr_n_3', '拼插类玩具': '/s?bbn=647071051&rh=n%3A647070051%2Cn%3A1982062051&dc&qid=1660662477&rnid=647071051&ref=lp_647071051_nr_n_4', '玩具车、惯性车': '/s?bbn=647071051&rh=n%3A647070051%2Cn%3A281511071&dc&qid=1660662477&rnid=647071051&ref=lp_647071051_nr_n_5', '遥控电动玩具': '/s?bbn=647071051&rh=n%3A647070051%2Cn%3A1982058051&dc&qid=1660662477&rnid=647071051&ref=lp_647071051_nr_n_6', '模型组装及收藏': '/s?bbn=647071051&rh=n%3A647070051%2Cn%3A1982523051&dc&qid=1660662477&rnid=647071051&ref=lp_647071051_nr_n_7', '动漫玩具及周边': '/s?bbn=647071051&rh=n%3A647070051%2Cn%3A2017770051&dc&qid=1660662477&rnid=647071051&ref=lp_647071051_nr_n_8', '学校用品': '/s?bbn=647071051&rh=n%3A647070051%2Cn%3A1982066051&dc&qid=1660662477&rnid=647071051&ref=lp_647071051_nr_n_9', '绘画、DIY制作': '/s?bbn=647071051&rh=n%3A647070051%2Cn%3A1982067051&dc&qid=1660662477&rnid=647071051&ref=lp_647071051_nr_n_10', '游戏': '/s?bbn=647071051&rh=n%3A647070051%2Cn%3A1982065051&dc&qid=1660662477&rnid=647071051&ref=lp_647071051_nr_n_11', '电子类玩具': '/s?bbn=647071051&rh=n%3A647070051%2Cn%3A281329071&dc&qid=1660662477&rnid=647071051&ref=lp_647071051_nr_n_12', '运动户外': '/s?bbn=647071051&rh=n%3A647070051%2Cn%3A1982064051&dc&qid=1660662477&rnid=647071051&ref=lp_647071051_nr_n_13', '毛绒布艺': '/s?bbn=647071051&rh=n%3A647070051%2Cn%3A1982061051&dc&qid=1660662477&rnid=647071051&ref=lp_647071051_nr_n_14', '音乐玩具': '/s?bbn=647071051&rh=n%3A647070051%2Cn%3A1982063051&dc&qid=1660662477&rnid=647071051&ref=lp_647071051_nr_n_15', '木偶、手偶': '/s?bbn=647071051&rh=n%3A647070051%2Cn%3A281482071&dc&qid=1660662477&rnid=647071051&ref=lp_647071051_nr_n_16', '益智、科教玩具': '/s?bbn=647071051&rh=n%3A647070051%2Cn%3A281527071&dc&qid=1660662477&rnid=647071051&ref=lp_647071051_nr_n_17', '创意玩具': '/s?bbn=647071051&rh=n%3A647070051%2Cn%3A1982069051&dc&qid=1660662477&rnid=647071051&ref=lp_647071051_nr_n_18', '节日聚会用品': '/s?bbn=647071051&rh=n%3A647070051%2Cn%3A281445071&dc&qid=1660662477&rnid=647071051&ref=lp_647071051_nr_n_19', '装扮与饰品': '/s?bbn=647071051&rh=n%3A647070051%2Cn%3A281651071&dc&qid=1660662477&rnid=647071051&ref=lp_647071051_nr_n_20', '角色扮演及扮装游戏': '/s?bbn=647071051&rh=n%3A647070051%2Cn%3A281421071&dc&qid=1660662477&rnid=647071051&ref=lp_647071051_nr_n_21', '弹珠轨道玩具': '/s?bbn=647071051&rh=n%3A647070051%2Cn%3A281327071&dc&qid=1660662477&rnid=647071051&ref=lp_647071051_nr_n_22', '儿童用食品加工机': '/s?bbn=647071051&rh=n%3A647070051%2Cn%3A281337071&dc&qid=1660662477&rnid=647071051&ref=lp_647071051_nr_n_23', '卡片收藏': '/s?bbn=647071051&rh=n%3A647070051%2Cn%3A281457071&dc&qid=1660662477&rnid=647071051&ref=lp_647071051_nr_n_24', '硬币邮票收藏': '/s?bbn=647071051&rh=n%3A647070051%2Cn%3A281580071&dc&qid=1660662477&rnid=647071051&ref=lp_647071051_nr_n_25'}\n"
     ]
    }
   ],
   "source": [
    "print(url_map)"
   ]
  },
  {
   "cell_type": "code",
   "execution_count": 8,
   "id": "baca10b2",
   "metadata": {},
   "outputs": [
    {
     "data": {
      "text/plain": [
       "<Element li at 0x118836d40>"
      ]
     },
     "execution_count": 8,
     "metadata": {},
     "output_type": "execute_result"
    }
   ],
   "source": []
  },
  {
   "cell_type": "code",
   "execution_count": 26,
   "id": "71636b54",
   "metadata": {},
   "outputs": [],
   "source": [
    "def get_categroy(url):\n",
    "    res = requests.get(url,headers=headers)\n",
    "    "
   ]
  },
  {
   "cell_type": "code",
   "execution_count": 27,
   "id": "04a1d827",
   "metadata": {},
   "outputs": [],
   "source": [
    "res = requests.get(\"https://www.amazon.cn/s?bbn=647071051&rh=n%3A647070051%2Cn%3A1982054051&dc&qid=1660662477&rnid=647071051&ref=lp_647071051_nr_n_0\",headers=headers)"
   ]
  },
  {
   "cell_type": "code",
   "execution_count": 32,
   "id": "da15686d",
   "metadata": {},
   "outputs": [],
   "source": [
    "# 这里是获取具体的内容\n",
    "html = etree.HTML(res.text)\n",
    "hs = html.xpath(\"/html/body/div[1]/div[2]/div[2]/div[1]/div[2]/div[2]/div/div/a/@href\")[0]"
   ]
  },
  {
   "cell_type": "code",
   "execution_count": 31,
   "id": "81107ef1",
   "metadata": {},
   "outputs": [
    {
     "data": {
      "text/plain": [
       "['/s?rh=n%3A1982054051&fs=true&ref=lp_1982054051_sar']"
      ]
     },
     "execution_count": 31,
     "metadata": {},
     "output_type": "execute_result"
    }
   ],
   "source": [
    "hs"
   ]
  },
  {
   "cell_type": "code",
   "execution_count": 45,
   "id": "a4a310d8",
   "metadata": {},
   "outputs": [
    {
     "name": "stdout",
     "output_type": "stream",
     "text": [
      "<Response [403]>\n"
     ]
    }
   ],
   "source": [
    "res = requests.get(\"https://www.amazon.com/s?bbn=16225015011&rh=n%3A166057011&dc&qid=1660664688&rnid=16225015011&ref=lp_16225015011_nr_n_0\",headers=headers)\n",
    "print(res)\n",
    "html = etree.HTML(res.text)\n",
    "hs = html.xpath('//ul[@class=\"a-unordered-list a-nostyle a-vertical a-spacing-medium\"]/li[@class=\"a-spacing-micro s-navigation-indent-2\"]//a')"
   ]
  },
  {
   "cell_type": "code",
   "execution_count": 46,
   "id": "29025285",
   "metadata": {},
   "outputs": [],
   "source": [
    "url_map = {}\n",
    "for item in hs:\n",
    "    url = item.xpath(\"./@href\")\n",
    "    name = item.xpath(\"./span/text()\")\n",
    "    url_map[name[0]] = url[0]"
   ]
  },
  {
   "cell_type": "code",
   "execution_count": 44,
   "id": "98eedb32",
   "metadata": {},
   "outputs": [
    {
     "name": "stdout",
     "output_type": "stream",
     "text": [
      "{}\n"
     ]
    }
   ],
   "source": [
    "print(url_map)"
   ]
  },
  {
   "cell_type": "code",
   "execution_count": null,
   "id": "dfd2a67f",
   "metadata": {},
   "outputs": [],
   "source": []
  }
 ],
 "metadata": {
  "kernelspec": {
   "display_name": "Python 3 (ipykernel)",
   "language": "python",
   "name": "python3"
  },
  "language_info": {
   "codemirror_mode": {
    "name": "ipython",
    "version": 3
   },
   "file_extension": ".py",
   "mimetype": "text/x-python",
   "name": "python",
   "nbconvert_exporter": "python",
   "pygments_lexer": "ipython3",
   "version": "3.8.11"
  }
 },
 "nbformat": 4,
 "nbformat_minor": 5
}
